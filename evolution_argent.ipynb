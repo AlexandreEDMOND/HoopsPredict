{
 "cells": [
  {
   "cell_type": "markdown",
   "metadata": {},
   "source": [
    "# Import"
   ]
  },
  {
   "cell_type": "code",
   "execution_count": 7,
   "metadata": {},
   "outputs": [],
   "source": [
    "import random\n",
    "import matplotlib.pyplot as plt\n",
    "from IPython.display import clear_output\n",
    "%matplotlib inline\n",
    "\n",
    "import numpy as np\n",
    "from tqdm import tqdm\n"
   ]
  },
  {
   "cell_type": "markdown",
   "metadata": {},
   "source": [
    "# Environnement"
   ]
  },
  {
   "cell_type": "code",
   "execution_count": 19,
   "metadata": {},
   "outputs": [],
   "source": [
    "argent = 100\n",
    "\n",
    "cote_min = 1.05\n",
    "cote_max = 1.4\n",
    "\n",
    "prediction_rate = 0.6\n",
    "\n",
    "bet_proportion = 0.1\n",
    "\n",
    "multiplicateur = 2\n",
    "amount_to_stop = argent*multiplicateur"
   ]
  },
  {
   "cell_type": "markdown",
   "metadata": {},
   "source": [
    "# Jeu"
   ]
  },
  {
   "cell_type": "code",
   "execution_count": 9,
   "metadata": {},
   "outputs": [],
   "source": [
    "def plot(list_to_plot):\n",
    "        clear_output(True)\n",
    "        plt.figure(figsize=(15,3))\n",
    "        plt.subplot(131)\n",
    "        plt.plot(list_to_plot, marker='s', markersize=10)\n",
    "        plt.grid()\n",
    "        # plt.pause(0.5)\n",
    "        plt.show()\n",
    "\n",
    "def make_a_bet(argent):\n",
    "     \n",
    "    amount_to_bet = int(argent*bet_proportion) + 1\n",
    "    # print(amount_to_bet)\n",
    "\n",
    "    if random.random() < prediction_rate:\n",
    "        return argent + round(amount_to_bet*random.uniform(cote_min, cote_max), 2)\n",
    "    else:\n",
    "         return argent - amount_to_bet\n",
    "          \n",
    "\n",
    "def jouer(argent, affichage):\n",
    "\n",
    "    memory_argent = [argent]\n",
    "\n",
    "    while argent > 1 and argent < amount_to_stop:\n",
    "\n",
    "        if affichage == True:\n",
    "            plot(memory_argent)\n",
    "\n",
    "        argent = make_a_bet(argent)\n",
    "\n",
    "        memory_argent.append(argent)\n",
    "\n",
    "    \n",
    "    return argent, len(memory_argent)\n",
    "\n"
   ]
  },
  {
   "cell_type": "markdown",
   "metadata": {},
   "source": [
    "# Main"
   ]
  },
  {
   "cell_type": "code",
   "execution_count": 22,
   "metadata": {},
   "outputs": [
    {
     "data": {
      "image/png": "[encoded data removed]",
      "text/plain": [
       "<Figure size 1500x300 with 1 Axes>"
      ]
     },
     "metadata": {},
     "output_type": "display_data"
    },
    {
     "data": {
      "text/plain": [
       "(203.86, 52)"
      ]
     },
     "execution_count": 22,
     "metadata": {},
     "output_type": "execute_result"
    }
   ],
   "source": [
    "jouer(argent, affichage=True)"
   ]
  },
  {
   "cell_type": "code",
   "execution_count": 20,
   "metadata": {},
   "outputs": [
    {
     "name": "stderr",
     "output_type": "stream",
     "text": [
      "100%|██████████| 100000/100000 [00:01<00:00, 65031.99it/s]"
     ]
    },
    {
     "name": "stdout",
     "output_type": "stream",
     "text": [
      "Pourcentage de réussite du \n",
      "Moyenne de paris pour faire x2 : 27.54296\n",
      "Pourcentage  de réusite : 1.0\n"
     ]
    },
    {
     "name": "stderr",
     "output_type": "stream",
     "text": [
      "\n"
     ]
    }
   ],
   "source": [
    "list_day = []\n",
    "nb_simulation = 100000\n",
    "nb_defaite = 0\n",
    "\n",
    "for _ in tqdm(range(nb_simulation)):\n",
    "    result, day = jouer(argent, False)\n",
    "    if result < 1:\n",
    "        nb_defaite += 1\n",
    "    \n",
    "    list_day.append(day)\n",
    "\n",
    "print(f\"Pourcentage de réussite du \")\n",
    "print(f\"Moyenne de paris pour faire x{multiplicateur} : {sum(list_day)/len(list_day)}\")\n",
    "print(f\"Pourcentage  de réusite : {1 - nb_defaite/nb_simulation}\")"
   ]
  }
 ],
 "metadata": {
  "kernelspec": {
   "display_name": "Python 3",
   "language": "python",
   "name": "python3"
  },
  "language_info": {
   "codemirror_mode": {
    "name": "ipython",
    "version": 3
   },
   "file_extension": ".py",
   "mimetype": "text/x-python",
   "name": "python",
   "nbconvert_exporter": "python",
   "pygments_lexer": "ipython3",
   "version": "3.12.3"
  }
 },
 "nbformat": 4,
 "nbformat_minor": 2
}
