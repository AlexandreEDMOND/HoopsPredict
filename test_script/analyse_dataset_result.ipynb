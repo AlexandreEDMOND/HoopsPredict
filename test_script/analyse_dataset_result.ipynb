{
 "cells": [
  {
   "cell_type": "markdown",
   "metadata": {},
   "source": [
    "# Import"
   ]
  },
  {
   "cell_type": "code",
   "execution_count": 31,
   "metadata": {},
   "outputs": [],
   "source": [
    "import pandas as pd\n",
    "from datetime import datetime"
   ]
  },
  {
   "cell_type": "markdown",
   "metadata": {},
   "source": [
    "# Concaténation des CSV"
   ]
  },
  {
   "cell_type": "code",
   "execution_count": 38,
   "metadata": {},
   "outputs": [],
   "source": [
    "mouths = ['oct', 'nov', 'dec', 'jan', 'feb', 'mar', 'apr', 'may', 'jun']\n",
    "\n",
    "df = pd.DataFrame()\n",
    "\n",
    "for mouth in mouths:\n",
    "\n",
    "    path_file = f\"data_2023_2024/date_team_result/date_teams_result_match_{mouth}_23_24.csv\"\n",
    "\n",
    "    df_mouth = pd.read_csv(path_file)\n",
    "\n",
    "    df = pd.concat([df, df_mouth])"
   ]
  },
  {
   "cell_type": "code",
   "execution_count": 39,
   "metadata": {},
   "outputs": [
    {
     "data": {
      "text/html": [
       "<div>\n",
       "<style scoped>\n",
       "    .dataframe tbody tr th:only-of-type {\n",
       "        vertical-align: middle;\n",
       "    }\n",
       "\n",
       "    .dataframe tbody tr th {\n",
       "        vertical-align: top;\n",
       "    }\n",
       "\n",
       "    .dataframe thead th {\n",
       "        text-align: right;\n",
       "    }\n",
       "</style>\n",
       "<table border=\"1\" class=\"dataframe\">\n",
       "  <thead>\n",
       "    <tr style=\"text-align: right;\">\n",
       "      <th></th>\n",
       "      <th>Date</th>\n",
       "      <th>Start (ET)</th>\n",
       "      <th>Visitor/Neutral</th>\n",
       "      <th>PTS</th>\n",
       "      <th>Home/Neutral</th>\n",
       "      <th>PTS.1</th>\n",
       "      <th>Unnamed: 6</th>\n",
       "      <th>Unnamed: 7</th>\n",
       "      <th>Attend.</th>\n",
       "      <th>LOG</th>\n",
       "      <th>Arena</th>\n",
       "      <th>Notes</th>\n",
       "    </tr>\n",
       "  </thead>\n",
       "  <tbody>\n",
       "    <tr>\n",
       "      <th>0</th>\n",
       "      <td>Tue Oct 24 2023</td>\n",
       "      <td>7:30p</td>\n",
       "      <td>Los Angeles Lakers</td>\n",
       "      <td>107</td>\n",
       "      <td>Denver Nuggets</td>\n",
       "      <td>119</td>\n",
       "      <td>Box Score</td>\n",
       "      <td>NaN</td>\n",
       "      <td>19842.0</td>\n",
       "      <td>2:17</td>\n",
       "      <td>Ball Arena</td>\n",
       "      <td>NaN</td>\n",
       "    </tr>\n",
       "    <tr>\n",
       "      <th>1</th>\n",
       "      <td>Tue Oct 24 2023</td>\n",
       "      <td>10:00p</td>\n",
       "      <td>Phoenix Suns</td>\n",
       "      <td>108</td>\n",
       "      <td>Golden State Warriors</td>\n",
       "      <td>104</td>\n",
       "      <td>Box Score</td>\n",
       "      <td>NaN</td>\n",
       "      <td>18064.0</td>\n",
       "      <td>2:33</td>\n",
       "      <td>Chase Center</td>\n",
       "      <td>NaN</td>\n",
       "    </tr>\n",
       "    <tr>\n",
       "      <th>2</th>\n",
       "      <td>Wed Oct 25 2023</td>\n",
       "      <td>7:00p</td>\n",
       "      <td>Houston Rockets</td>\n",
       "      <td>86</td>\n",
       "      <td>Orlando Magic</td>\n",
       "      <td>116</td>\n",
       "      <td>Box Score</td>\n",
       "      <td>NaN</td>\n",
       "      <td>18846.0</td>\n",
       "      <td>2:14</td>\n",
       "      <td>Kia Center</td>\n",
       "      <td>NaN</td>\n",
       "    </tr>\n",
       "    <tr>\n",
       "      <th>3</th>\n",
       "      <td>Wed Oct 25 2023</td>\n",
       "      <td>7:00p</td>\n",
       "      <td>Boston Celtics</td>\n",
       "      <td>108</td>\n",
       "      <td>New York Knicks</td>\n",
       "      <td>104</td>\n",
       "      <td>Box Score</td>\n",
       "      <td>NaN</td>\n",
       "      <td>19812.0</td>\n",
       "      <td>2:39</td>\n",
       "      <td>Madison Square Garden (IV)</td>\n",
       "      <td>NaN</td>\n",
       "    </tr>\n",
       "    <tr>\n",
       "      <th>4</th>\n",
       "      <td>Wed Oct 25 2023</td>\n",
       "      <td>7:00p</td>\n",
       "      <td>Washington Wizards</td>\n",
       "      <td>120</td>\n",
       "      <td>Indiana Pacers</td>\n",
       "      <td>143</td>\n",
       "      <td>Box Score</td>\n",
       "      <td>NaN</td>\n",
       "      <td>16004.0</td>\n",
       "      <td>2:07</td>\n",
       "      <td>Gainbridge Fieldhouse</td>\n",
       "      <td>NaN</td>\n",
       "    </tr>\n",
       "  </tbody>\n",
       "</table>\n",
       "</div>"
      ],
      "text/plain": [
       "              Date Start (ET)     Visitor/Neutral  PTS           Home/Neutral  \\\n",
       "0  Tue Oct 24 2023      7:30p  Los Angeles Lakers  107         Denver Nuggets   \n",
       "1  Tue Oct 24 2023     10:00p        Phoenix Suns  108  Golden State Warriors   \n",
       "2  Wed Oct 25 2023      7:00p     Houston Rockets   86          Orlando Magic   \n",
       "3  Wed Oct 25 2023      7:00p      Boston Celtics  108        New York Knicks   \n",
       "4  Wed Oct 25 2023      7:00p  Washington Wizards  120         Indiana Pacers   \n",
       "\n",
       "   PTS.1 Unnamed: 6 Unnamed: 7  Attend.   LOG                       Arena  \\\n",
       "0    119  Box Score        NaN  19842.0  2:17                  Ball Arena   \n",
       "1    104  Box Score        NaN  18064.0  2:33                Chase Center   \n",
       "2    116  Box Score        NaN  18846.0  2:14                  Kia Center   \n",
       "3    104  Box Score        NaN  19812.0  2:39  Madison Square Garden (IV)   \n",
       "4    143  Box Score        NaN  16004.0  2:07       Gainbridge Fieldhouse   \n",
       "\n",
       "  Notes  \n",
       "0   NaN  \n",
       "1   NaN  \n",
       "2   NaN  \n",
       "3   NaN  \n",
       "4   NaN  "
      ]
     },
     "execution_count": 39,
     "metadata": {},
     "output_type": "execute_result"
    }
   ],
   "source": [
    "df.head()"
   ]
  },
  {
   "cell_type": "code",
   "execution_count": 42,
   "metadata": {},
   "outputs": [
    {
     "name": "stdout",
     "output_type": "stream",
     "text": [
      "(1319, 12)\n",
      "(1319, 12)\n"
     ]
    }
   ],
   "source": [
    "print(df.shape)\n",
    "df = df.drop_duplicates()\n",
    "print(df.shape)"
   ]
  },
  {
   "cell_type": "code",
   "execution_count": 25,
   "metadata": {},
   "outputs": [],
   "source": [
    "df.to_csv(\"data_2023_2024/date_team_result/date_teams_result_match_23_24.csv\")"
   ]
  },
  {
   "cell_type": "markdown",
   "metadata": {},
   "source": [
    "# Vérification validité CSV"
   ]
  },
  {
   "cell_type": "code",
   "execution_count": 75,
   "metadata": {},
   "outputs": [],
   "source": [
    "path_file = \"data_2023_2024/date_team_result/date_teams_result_match_23_24.csv\"\n",
    "\n",
    "df = pd.read_csv(path_file)"
   ]
  },
  {
   "cell_type": "code",
   "execution_count": null,
   "metadata": {},
   "outputs": [
    {
     "name": "stdout",
     "output_type": "stream",
     "text": [
      "[['Denver Nuggets*', '1', '0', '1.000', '—', '119.0', '107.0'], ['Phoenix Suns*', '1', '0', '1.000', '—', '108.0', '104.0'], ['Los Angeles Lakers*', '0', '1', '.000', '1.0', '107.0', '119.0'], ['Golden State Warriors', '0', '1', '.000', '1.0', '104.0', '108.0']]\n"
     ]
    }
   ],
   "source": [
    "teams = []\n",
    "\n",
    "for table in soup.find_all('div', class_='table_container'):\n",
    "    for tbody in table.find_all('tbody'):\n",
    "        for row in tbody:\n",
    "            if row != \"\\n\":\n",
    "                teams_info = []\n",
    "                for col in row:\n",
    "                    if col != \"\\n\":\n",
    "                        teams_info.append(col.text.strip())\n",
    "                teams.append(teams_info)\n",
    "            # print(row)\n",
    "            # team_info = ' '.join(col.text.strip() for col in row)\n",
    "            # teams.append(team_info)\n",
    "            # print(team_info)\n",
    "\n",
    "print(teams)"
   ]
  },
  {
   "cell_type": "code",
   "execution_count": 76,
   "metadata": {},
   "outputs": [],
   "source": [
    "# Convertir la colonne de dates en datetime\n",
    "df['Date'] = pd.to_datetime(df['Date'], format='%a %b %d %Y')"
   ]
  },
  {
   "cell_type": "code",
   "execution_count": 77,
   "metadata": {},
   "outputs": [
    {
     "data": {
      "text/html": [
       "<div>\n",
       "<style scoped>\n",
       "    .dataframe tbody tr th:only-of-type {\n",
       "        vertical-align: middle;\n",
       "    }\n",
       "\n",
       "    .dataframe tbody tr th {\n",
       "        vertical-align: top;\n",
       "    }\n",
       "\n",
       "    .dataframe thead th {\n",
       "        text-align: right;\n",
       "    }\n",
       "</style>\n",
       "<table border=\"1\" class=\"dataframe\">\n",
       "  <thead>\n",
       "    <tr style=\"text-align: right;\">\n",
       "      <th></th>\n",
       "      <th>Unnamed: 0</th>\n",
       "      <th>Date</th>\n",
       "      <th>Start (ET)</th>\n",
       "      <th>Visitor/Neutral</th>\n",
       "      <th>PTS</th>\n",
       "      <th>Home/Neutral</th>\n",
       "      <th>PTS.1</th>\n",
       "      <th>Unnamed: 6</th>\n",
       "      <th>Unnamed: 7</th>\n",
       "      <th>Attend.</th>\n",
       "      <th>LOG</th>\n",
       "      <th>Arena</th>\n",
       "      <th>Notes</th>\n",
       "    </tr>\n",
       "  </thead>\n",
       "  <tbody>\n",
       "    <tr>\n",
       "      <th>0</th>\n",
       "      <td>0</td>\n",
       "      <td>2023-10-24</td>\n",
       "      <td>7:30p</td>\n",
       "      <td>Los Angeles Lakers</td>\n",
       "      <td>107</td>\n",
       "      <td>Denver Nuggets</td>\n",
       "      <td>119</td>\n",
       "      <td>Box Score</td>\n",
       "      <td>NaN</td>\n",
       "      <td>19842.0</td>\n",
       "      <td>2:17</td>\n",
       "      <td>Ball Arena</td>\n",
       "      <td>NaN</td>\n",
       "    </tr>\n",
       "    <tr>\n",
       "      <th>1</th>\n",
       "      <td>1</td>\n",
       "      <td>2023-10-24</td>\n",
       "      <td>10:00p</td>\n",
       "      <td>Phoenix Suns</td>\n",
       "      <td>108</td>\n",
       "      <td>Golden State Warriors</td>\n",
       "      <td>104</td>\n",
       "      <td>Box Score</td>\n",
       "      <td>NaN</td>\n",
       "      <td>18064.0</td>\n",
       "      <td>2:33</td>\n",
       "      <td>Chase Center</td>\n",
       "      <td>NaN</td>\n",
       "    </tr>\n",
       "    <tr>\n",
       "      <th>2</th>\n",
       "      <td>2</td>\n",
       "      <td>2023-10-25</td>\n",
       "      <td>7:00p</td>\n",
       "      <td>Houston Rockets</td>\n",
       "      <td>86</td>\n",
       "      <td>Orlando Magic</td>\n",
       "      <td>116</td>\n",
       "      <td>Box Score</td>\n",
       "      <td>NaN</td>\n",
       "      <td>18846.0</td>\n",
       "      <td>2:14</td>\n",
       "      <td>Kia Center</td>\n",
       "      <td>NaN</td>\n",
       "    </tr>\n",
       "    <tr>\n",
       "      <th>3</th>\n",
       "      <td>3</td>\n",
       "      <td>2023-10-25</td>\n",
       "      <td>7:00p</td>\n",
       "      <td>Boston Celtics</td>\n",
       "      <td>108</td>\n",
       "      <td>New York Knicks</td>\n",
       "      <td>104</td>\n",
       "      <td>Box Score</td>\n",
       "      <td>NaN</td>\n",
       "      <td>19812.0</td>\n",
       "      <td>2:39</td>\n",
       "      <td>Madison Square Garden (IV)</td>\n",
       "      <td>NaN</td>\n",
       "    </tr>\n",
       "    <tr>\n",
       "      <th>4</th>\n",
       "      <td>4</td>\n",
       "      <td>2023-10-25</td>\n",
       "      <td>7:00p</td>\n",
       "      <td>Washington Wizards</td>\n",
       "      <td>120</td>\n",
       "      <td>Indiana Pacers</td>\n",
       "      <td>143</td>\n",
       "      <td>Box Score</td>\n",
       "      <td>NaN</td>\n",
       "      <td>16004.0</td>\n",
       "      <td>2:07</td>\n",
       "      <td>Gainbridge Fieldhouse</td>\n",
       "      <td>NaN</td>\n",
       "    </tr>\n",
       "  </tbody>\n",
       "</table>\n",
       "</div>"
      ],
      "text/plain": [
       "   Unnamed: 0       Date Start (ET)     Visitor/Neutral  PTS  \\\n",
       "0           0 2023-10-24      7:30p  Los Angeles Lakers  107   \n",
       "1           1 2023-10-24     10:00p        Phoenix Suns  108   \n",
       "2           2 2023-10-25      7:00p     Houston Rockets   86   \n",
       "3           3 2023-10-25      7:00p      Boston Celtics  108   \n",
       "4           4 2023-10-25      7:00p  Washington Wizards  120   \n",
       "\n",
       "            Home/Neutral  PTS.1 Unnamed: 6 Unnamed: 7  Attend.   LOG  \\\n",
       "0         Denver Nuggets    119  Box Score        NaN  19842.0  2:17   \n",
       "1  Golden State Warriors    104  Box Score        NaN  18064.0  2:33   \n",
       "2          Orlando Magic    116  Box Score        NaN  18846.0  2:14   \n",
       "3        New York Knicks    104  Box Score        NaN  19812.0  2:39   \n",
       "4         Indiana Pacers    143  Box Score        NaN  16004.0  2:07   \n",
       "\n",
       "                        Arena Notes  \n",
       "0                  Ball Arena   NaN  \n",
       "1                Chase Center   NaN  \n",
       "2                  Kia Center   NaN  \n",
       "3  Madison Square Garden (IV)   NaN  \n",
       "4       Gainbridge Fieldhouse   NaN  "
      ]
     },
     "execution_count": 77,
     "metadata": {},
     "output_type": "execute_result"
    }
   ],
   "source": [
    "df.head()"
   ]
  },
  {
   "cell_type": "code",
   "execution_count": 78,
   "metadata": {},
   "outputs": [
    {
     "name": "stdout",
     "output_type": "stream",
     "text": [
      "Nombre de matchs de saison regulière: 1231\n"
     ]
    }
   ],
   "source": [
    "# Définir la date limite de la saison régulière\n",
    "date_end_regular_season = datetime(2024, 4, 16)\n",
    "\n",
    "# Compter le nombre de lignes avec une date avant la date limite\n",
    "nombre_de_lignes_avant_date_limite = len(df[df['Date'] < date_end_regular_season])\n",
    "\n",
    "print(f'Nombre de matchs de saison regulière: {nombre_de_lignes_avant_date_limite}')"
   ]
  },
  {
   "cell_type": "markdown",
   "metadata": {},
   "source": [
    "Il y a 1 match de plus car c'est la final du In-Season Tournement"
   ]
  },
  {
   "cell_type": "code",
   "execution_count": 79,
   "metadata": {},
   "outputs": [
    {
     "name": "stdout",
     "output_type": "stream",
     "text": [
      "Nombre de matchs de Play-In Game: 6\n"
     ]
    }
   ],
   "source": [
    "nombre_de_matchs_play_in_game = len(df[df['Notes'] == \"Play-In Game\"])\n",
    "\n",
    "print(f'Nombre de matchs de Play-In Game: {nombre_de_matchs_play_in_game}')"
   ]
  },
  {
   "cell_type": "code",
   "execution_count": 80,
   "metadata": {},
   "outputs": [
    {
     "name": "stdout",
     "output_type": "stream",
     "text": [
      "Nombre de matchs de playoff : 82\n"
     ]
    }
   ],
   "source": [
    "# Définir la date limite de la saison régulière\n",
    "date_start_playoff = datetime(2024, 4, 20)\n",
    "\n",
    "# Compter le nombre de lignes avec une date avant la date limite\n",
    "nombre_de_matchs_playoff = len(df[df['Date'] >= date_start_playoff])\n",
    "\n",
    "print(f'Nombre de matchs de playoff : {nombre_de_matchs_playoff}')"
   ]
  },
  {
   "cell_type": "code",
   "execution_count": 83,
   "metadata": {},
   "outputs": [
    {
     "name": "stdout",
     "output_type": "stream",
     "text": [
      "Los Angeles Lakers        83\n",
      "Indiana Pacers            83\n",
      "Phoenix Suns              82\n",
      "Milwaukee Bucks           82\n",
      "San Antonio Spurs         82\n",
      "Utah Jazz                 82\n",
      "Memphis Grizzlies         82\n",
      "Chicago Bulls             82\n",
      "Golden State Warriors     82\n",
      "Orlando Magic             82\n",
      "Los Angeles Clippers      82\n",
      "Brooklyn Nets             82\n",
      "Toronto Raptors           82\n",
      "Miami Heat                82\n",
      "New York Knicks           82\n",
      "Denver Nuggets            82\n",
      "Philadelphia 76ers        82\n",
      "Portland Trail Blazers    82\n",
      "Dallas Mavericks          82\n",
      "Sacramento Kings          82\n",
      "Oklahoma City Thunder     82\n",
      "New Orleans Pelicans      82\n",
      "Cleveland Cavaliers       82\n",
      "Minnesota Timberwolves    82\n",
      "Detroit Pistons           82\n",
      "Atlanta Hawks             82\n",
      "Washington Wizards        82\n",
      "Boston Celtics            82\n",
      "Houston Rockets           82\n",
      "Charlotte Hornets         82\n",
      "Name: count, dtype: int64\n",
      "30\n"
     ]
    }
   ],
   "source": [
    "date_end_regular_season = datetime(2024, 4, 16)\n",
    "\n",
    "# Nombre de matchs par équipes\n",
    "df_regular_season = df[df['Date'] < date_end_regular_season]\n",
    "\n",
    "all_teams = pd.concat([df_regular_season['Visitor/Neutral'], df_regular_season['Home/Neutral']])\n",
    "\n",
    "# Compter les occurrences de chaque équipe\n",
    "team_counts = all_teams.value_counts()\n",
    "\n",
    "print(team_counts)\n",
    "print(len(team_counts))"
   ]
  },
  {
   "cell_type": "code",
   "execution_count": 82,
   "metadata": {},
   "outputs": [
    {
     "name": "stdout",
     "output_type": "stream",
     "text": [
      "      Unnamed: 0       Date Start (ET)     Visitor/Neutral  PTS  \\\n",
      "321           48 2023-12-09      8:30p      Indiana Pacers  109   \n",
      "1061         175 2024-03-24     10:00p      Indiana Pacers  145   \n",
      "1092         206 2024-03-29      7:00p  Los Angeles Lakers   90   \n",
      "\n",
      "            Home/Neutral  PTS.1 Unnamed: 6 Unnamed: 7  Attend.   LOG  \\\n",
      "321   Los Angeles Lakers    123  Box Score        NaN  19021.0   NaN   \n",
      "1061  Los Angeles Lakers    150  Box Score        NaN  18997.0  2:20   \n",
      "1092      Indiana Pacers    109  Box Score        NaN  17274.0  2:06   \n",
      "\n",
      "                      Arena                       Notes  \n",
      "321          T-Mobile Arena  In-Season Tournament Final  \n",
      "1061       Crypto.com Arena                         NaN  \n",
      "1092  Gainbridge Fieldhouse                         NaN  \n"
     ]
    }
   ],
   "source": [
    "# Affiche tous les matchs entre les Lakers et les Pacers\n",
    "# Nom des équipes à filtrer\n",
    "equipe1 = 'Los Angeles Lakers'\n",
    "equipe2 = 'Indiana Pacers'\n",
    "\n",
    "# Filtrer les matchs où Équipe1 ou Équipe2 sont en Équipe_A\n",
    "matches = df[((df['Visitor/Neutral'] == equipe1) & (df['Home/Neutral'] == equipe2)) |\n",
    "             ((df['Visitor/Neutral'] == equipe2) & (df['Home/Neutral'] == equipe1))]\n",
    "\n",
    "print(matches.head())"
   ]
  },
  {
   "cell_type": "markdown",
   "metadata": {},
   "source": [
    "# Création CSV Regular Season"
   ]
  },
  {
   "cell_type": "code",
   "execution_count": 85,
   "metadata": {},
   "outputs": [],
   "source": [
    "path_file = \"data_2023_2024/date_team_result/date_teams_result_match_23_24.csv\"\n",
    "\n",
    "df = pd.read_csv(path_file)"
   ]
  },
  {
   "cell_type": "code",
   "execution_count": 86,
   "metadata": {},
   "outputs": [],
   "source": [
    "# Convertir la colonne de dates en datetime\n",
    "df['Date'] = pd.to_datetime(df['Date'], format='%a %b %d %Y')"
   ]
  },
  {
   "cell_type": "code",
   "execution_count": 87,
   "metadata": {},
   "outputs": [
    {
     "data": {
      "text/html": [
       "<div>\n",
       "<style scoped>\n",
       "    .dataframe tbody tr th:only-of-type {\n",
       "        vertical-align: middle;\n",
       "    }\n",
       "\n",
       "    .dataframe tbody tr th {\n",
       "        vertical-align: top;\n",
       "    }\n",
       "\n",
       "    .dataframe thead th {\n",
       "        text-align: right;\n",
       "    }\n",
       "</style>\n",
       "<table border=\"1\" class=\"dataframe\">\n",
       "  <thead>\n",
       "    <tr style=\"text-align: right;\">\n",
       "      <th></th>\n",
       "      <th>Unnamed: 0</th>\n",
       "      <th>Date</th>\n",
       "      <th>Start (ET)</th>\n",
       "      <th>Visitor/Neutral</th>\n",
       "      <th>PTS</th>\n",
       "      <th>Home/Neutral</th>\n",
       "      <th>PTS.1</th>\n",
       "      <th>Unnamed: 6</th>\n",
       "      <th>Unnamed: 7</th>\n",
       "      <th>Attend.</th>\n",
       "      <th>LOG</th>\n",
       "      <th>Arena</th>\n",
       "      <th>Notes</th>\n",
       "    </tr>\n",
       "  </thead>\n",
       "  <tbody>\n",
       "    <tr>\n",
       "      <th>0</th>\n",
       "      <td>0</td>\n",
       "      <td>2023-10-24</td>\n",
       "      <td>7:30p</td>\n",
       "      <td>Los Angeles Lakers</td>\n",
       "      <td>107</td>\n",
       "      <td>Denver Nuggets</td>\n",
       "      <td>119</td>\n",
       "      <td>Box Score</td>\n",
       "      <td>NaN</td>\n",
       "      <td>19842.0</td>\n",
       "      <td>2:17</td>\n",
       "      <td>Ball Arena</td>\n",
       "      <td>NaN</td>\n",
       "    </tr>\n",
       "    <tr>\n",
       "      <th>1</th>\n",
       "      <td>1</td>\n",
       "      <td>2023-10-24</td>\n",
       "      <td>10:00p</td>\n",
       "      <td>Phoenix Suns</td>\n",
       "      <td>108</td>\n",
       "      <td>Golden State Warriors</td>\n",
       "      <td>104</td>\n",
       "      <td>Box Score</td>\n",
       "      <td>NaN</td>\n",
       "      <td>18064.0</td>\n",
       "      <td>2:33</td>\n",
       "      <td>Chase Center</td>\n",
       "      <td>NaN</td>\n",
       "    </tr>\n",
       "    <tr>\n",
       "      <th>2</th>\n",
       "      <td>2</td>\n",
       "      <td>2023-10-25</td>\n",
       "      <td>7:00p</td>\n",
       "      <td>Houston Rockets</td>\n",
       "      <td>86</td>\n",
       "      <td>Orlando Magic</td>\n",
       "      <td>116</td>\n",
       "      <td>Box Score</td>\n",
       "      <td>NaN</td>\n",
       "      <td>18846.0</td>\n",
       "      <td>2:14</td>\n",
       "      <td>Kia Center</td>\n",
       "      <td>NaN</td>\n",
       "    </tr>\n",
       "    <tr>\n",
       "      <th>3</th>\n",
       "      <td>3</td>\n",
       "      <td>2023-10-25</td>\n",
       "      <td>7:00p</td>\n",
       "      <td>Boston Celtics</td>\n",
       "      <td>108</td>\n",
       "      <td>New York Knicks</td>\n",
       "      <td>104</td>\n",
       "      <td>Box Score</td>\n",
       "      <td>NaN</td>\n",
       "      <td>19812.0</td>\n",
       "      <td>2:39</td>\n",
       "      <td>Madison Square Garden (IV)</td>\n",
       "      <td>NaN</td>\n",
       "    </tr>\n",
       "    <tr>\n",
       "      <th>4</th>\n",
       "      <td>4</td>\n",
       "      <td>2023-10-25</td>\n",
       "      <td>7:00p</td>\n",
       "      <td>Washington Wizards</td>\n",
       "      <td>120</td>\n",
       "      <td>Indiana Pacers</td>\n",
       "      <td>143</td>\n",
       "      <td>Box Score</td>\n",
       "      <td>NaN</td>\n",
       "      <td>16004.0</td>\n",
       "      <td>2:07</td>\n",
       "      <td>Gainbridge Fieldhouse</td>\n",
       "      <td>NaN</td>\n",
       "    </tr>\n",
       "  </tbody>\n",
       "</table>\n",
       "</div>"
      ],
      "text/plain": [
       "   Unnamed: 0       Date Start (ET)     Visitor/Neutral  PTS  \\\n",
       "0           0 2023-10-24      7:30p  Los Angeles Lakers  107   \n",
       "1           1 2023-10-24     10:00p        Phoenix Suns  108   \n",
       "2           2 2023-10-25      7:00p     Houston Rockets   86   \n",
       "3           3 2023-10-25      7:00p      Boston Celtics  108   \n",
       "4           4 2023-10-25      7:00p  Washington Wizards  120   \n",
       "\n",
       "            Home/Neutral  PTS.1 Unnamed: 6 Unnamed: 7  Attend.   LOG  \\\n",
       "0         Denver Nuggets    119  Box Score        NaN  19842.0  2:17   \n",
       "1  Golden State Warriors    104  Box Score        NaN  18064.0  2:33   \n",
       "2          Orlando Magic    116  Box Score        NaN  18846.0  2:14   \n",
       "3        New York Knicks    104  Box Score        NaN  19812.0  2:39   \n",
       "4         Indiana Pacers    143  Box Score        NaN  16004.0  2:07   \n",
       "\n",
       "                        Arena Notes  \n",
       "0                  Ball Arena   NaN  \n",
       "1                Chase Center   NaN  \n",
       "2                  Kia Center   NaN  \n",
       "3  Madison Square Garden (IV)   NaN  \n",
       "4       Gainbridge Fieldhouse   NaN  "
      ]
     },
     "execution_count": 87,
     "metadata": {},
     "output_type": "execute_result"
    }
   ],
   "source": [
    "df.head()"
   ]
  },
  {
   "cell_type": "code",
   "execution_count": 89,
   "metadata": {},
   "outputs": [
    {
     "name": "stdout",
     "output_type": "stream",
     "text": [
      "Nombre de matchs de saison regulière: 1231\n"
     ]
    }
   ],
   "source": [
    "# Définir la date limite de la saison régulière\n",
    "date_end_regular_season = datetime(2024, 4, 16)\n",
    "\n",
    "df_regular_season = df[df['Date'] < date_end_regular_season]\n",
    "\n",
    "# Compter le nombre de lignes avec une date avant la date limite\n",
    "nombre_de_lignes_avant_date_limite = len(df_regular_season)\n",
    "\n",
    "print(f'Nombre de matchs de saison regulière: {nombre_de_lignes_avant_date_limite}')"
   ]
  },
  {
   "cell_type": "code",
   "execution_count": 90,
   "metadata": {},
   "outputs": [],
   "source": [
    "# On sauvegarde le DataFrame\n",
    "df_regular_season.to_csv(\"data_2023_2024/date_team_result/date_teams_result_match_23_24_regualr_season.csv\")"
   ]
  }
 ],
 "metadata": {
  "kernelspec": {
   "display_name": "Python 3",
   "language": "python",
   "name": "python3"
  },
  "language_info": {
   "codemirror_mode": {
    "name": "ipython",
    "version": 3
   },
   "file_extension": ".py",
   "mimetype": "text/x-python",
   "name": "python",
   "nbconvert_exporter": "python",
   "pygments_lexer": "ipython3",
   "version": "3.12.3"
  }
 },
 "nbformat": 4,
 "nbformat_minor": 2
}
